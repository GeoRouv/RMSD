{
 "cells": [
  {
   "cell_type": "markdown",
   "metadata": {
    "id": "BfWFcU4_Rxfc"
   },
   "source": [
    "# Notes\n",
    "---\n",
    "*   Make sure to have the *80_conformations.txt* file on the same directory as this notebook\n",
    "*   Output images are already saved under folder `/output`\n",
    "*   Notebook developed in Google Colab\n",
    "*   Keep in mind that task 3 runs for about 2 - 3 minutes "
   ]
  },
  {
   "cell_type": "markdown",
   "metadata": {
    "id": "cKUqTWeUR43h"
   },
   "source": [
    "# Libraries\n",
    "---"
   ]
  },
  {
   "cell_type": "code",
   "execution_count": 1,
   "metadata": {
    "executionInfo": {
     "elapsed": 908,
     "status": "ok",
     "timestamp": 1617481091680,
     "user": {
      "displayName": "George Rouvalis",
      "photoUrl": "https://lh3.googleusercontent.com/a-/AOh14GjOquqA-iZ8D0tVtvosCKyeJZFqyD7he_S0lJgp=s64",
      "userId": "07262416081964161526"
     },
     "user_tz": -180
    },
    "id": "TCC26TrJh3Bz"
   },
   "outputs": [],
   "source": [
    "import os\n",
    "import numpy as np\n",
    "import math\n",
    "import matplotlib.pyplot as plt\n",
    "import random\n",
    "import operator as op\n",
    "from functools import reduce"
   ]
  },
  {
   "cell_type": "markdown",
   "metadata": {
    "id": "LyAL3f9_PG-e"
   },
   "source": [
    "*if your are not using Google Colab, ignore/remove the block below or else modify it to match your Google Drive paths*"
   ]
  },
  {
   "cell_type": "code",
   "execution_count": 2,
   "metadata": {
    "colab": {
     "base_uri": "https://localhost:8080/"
    },
    "executionInfo": {
     "elapsed": 1432,
     "status": "ok",
     "timestamp": 1617481092210,
     "user": {
      "displayName": "George Rouvalis",
      "photoUrl": "https://lh3.googleusercontent.com/a-/AOh14GjOquqA-iZ8D0tVtvosCKyeJZFqyD7he_S0lJgp=s64",
      "userId": "07262416081964161526"
     },
     "user_tz": -180
    },
    "id": "6-hv94fJRPPP",
    "outputId": "34f508c4-ca26-4b92-b94f-2db0728765ef"
   },
   "outputs": [
    {
     "name": "stdout",
     "output_type": "stream",
     "text": [
      "Drive already mounted at /content/drive; to attempt to forcibly remount, call drive.mount(\"/content/drive\", force_remount=True).\n"
     ]
    }
   ],
   "source": [
    "# from google.colab import drive\n",
    "# drive.mount('/content/drive')\n",
    "# os.chdir(\"drive/My Drive/Colab Notebooks/Structural/Exercise1\")"
   ]
  },
  {
   "cell_type": "markdown",
   "metadata": {
    "id": "O3lo8BiFR9yL"
   },
   "source": [
    "# RMSD\n",
    "\n",
    "---\n",
    "\n",
    "*c-RMSD and d-RMSD*\n"
   ]
  },
  {
   "cell_type": "markdown",
   "metadata": {
    "id": "wSdqlmri6VpW"
   },
   "source": [
    "## Task 2.1\n",
    "\n",
    "*Use c-RMSD to compute the optimal translation and rotation minimizing c-RMSD between the first 2 conformations.*"
   ]
  },
  {
   "cell_type": "markdown",
   "metadata": {
    "id": "4CTHhMAKydqc"
   },
   "source": [
    "Reading data from molecule file - Setting up constants"
   ]
  },
  {
   "cell_type": "code",
   "execution_count": 7,
   "metadata": {
    "executionInfo": {
     "elapsed": 18255,
     "status": "ok",
     "timestamp": 1617481109050,
     "user": {
      "displayName": "George Rouvalis",
      "photoUrl": "https://lh3.googleusercontent.com/a-/AOh14GjOquqA-iZ8D0tVtvosCKyeJZFqyD7he_S0lJgp=s64",
      "userId": "07262416081964161526"
     },
     "user_tz": -180
    },
    "id": "j1JIuPCnZbjX"
   },
   "outputs": [],
   "source": [
    "conformations = 0\n",
    "n = 0  # number of atoms in backbone\n",
    "triplets = []\n",
    "\n",
    "counter = 0\n",
    "with open('./80_conformations.txt', 'r') as f:\n",
    "    for l in f:\n",
    "        if (counter == 0):\n",
    "            conformations = int(l.strip().split(\"\\t\")[0])\n",
    "        elif ( counter == 1):\n",
    "            n = int(l.strip().split(\"\\t\")[0])\n",
    "        else:\n",
    "            triplets.append(l.strip().split(\"\\t\"))\n",
    "        counter += 1\n",
    "\n",
    "# convert string triplets to floats \n",
    "for i in range(len(triplets)):\n",
    "    temp = triplets[i]\n",
    "    triplets[i] = np.array([float(x) for x in temp])"
   ]
  },
  {
   "cell_type": "code",
   "execution_count": 8,
   "metadata": {
    "executionInfo": {
     "elapsed": 18253,
     "status": "ok",
     "timestamp": 1617481109050,
     "user": {
      "displayName": "George Rouvalis",
      "photoUrl": "https://lh3.googleusercontent.com/a-/AOh14GjOquqA-iZ8D0tVtvosCKyeJZFqyD7he_S0lJgp=s64",
      "userId": "07262416081964161526"
     },
     "user_tz": -180
    },
    "id": "B6NJ2bPD5Xxy"
   },
   "outputs": [],
   "source": [
    "def cRMSD(x, y):\n",
    "    '''\n",
    "    Returns the cRMSD for 2 conformations\n",
    "\n",
    "    @x ,y: conformations\n",
    "    @n: atoms in backbone\n",
    "    '''\n",
    "\n",
    "    sum = 0\n",
    "    for i in range(n):\n",
    "        sum += (np.linalg.norm(x[i] - y[i])) ** 2\n",
    "\n",
    "    return np.sqrt(sum/n)"
   ]
  },
  {
   "cell_type": "code",
   "execution_count": 9,
   "metadata": {
    "colab": {
     "base_uri": "https://localhost:8080/"
    },
    "executionInfo": {
     "elapsed": 18251,
     "status": "ok",
     "timestamp": 1617481109050,
     "user": {
      "displayName": "George Rouvalis",
      "photoUrl": "https://lh3.googleusercontent.com/a-/AOh14GjOquqA-iZ8D0tVtvosCKyeJZFqyD7he_S0lJgp=s64",
      "userId": "07262416081964161526"
     },
     "user_tz": -180
    },
    "id": "5E4HseE7naq0",
    "outputId": "8b4344e3-ad59-42eb-9423-20984c863aab"
   },
   "outputs": [
    {
     "name": "stdout",
     "output_type": "stream",
     "text": [
      "================== U ==================\n",
      "\n",
      "[[-0.63410153  0.46632078  0.61681454]\n",
      " [-0.02695965 -0.8105389   0.58506399]\n",
      " [-0.77277968 -0.35436086 -0.5265358 ]]\n",
      "\n",
      "================== V ==================\n",
      "\n",
      "[[-0.6340207   0.46706983 -0.6163307 ]\n",
      " [-0.03042997 -0.81144844 -0.58363126]\n",
      " [-0.77271714 -0.35127937  0.52868803]]\n",
      "\n",
      "================== Σ =========================\n",
      "\n",
      "[34917.91855599 10937.35470003  5755.85773675]\n",
      "\n",
      "================== Q ==============================\n",
      "\n",
      "[[ 9.99999599e-01  8.92669266e-04  6.97845821e-05]\n",
      " [-8.92400674e-04  9.99992538e-01 -3.75854882e-03]\n",
      " [-7.31392024e-05  3.75848503e-03  9.99992934e-01]]\n",
      "\n",
      "====== RMSD ======\n",
      "\n",
      "0.6282608129540027\n"
     ]
    }
   ],
   "source": [
    "def optimal_cRMSD(x, y):\n",
    "    '''\n",
    "    Returns U, V, Σ, Q and minimum RMSD between 2 conformations\n",
    "\n",
    "    @x ,y: conformations\n",
    "    '''\n",
    "    X = np.subtract(x, np.mean(x))\n",
    "    Y = np.subtract(y, np.mean(y))\n",
    "\n",
    "    SVD = np.linalg.svd(X.T @ Y)\n",
    "    U, S, Vt = SVD\n",
    "\n",
    "    Q = U @ Vt\n",
    "    detQ = np.linalg.det(Q)\n",
    "    \n",
    "    for i in range(len(U)):\n",
    "            U[i][2] = U[i][2] * (-1)\n",
    "\n",
    "    if detQ < 0:\n",
    "        Q = U @ Vt\n",
    "\n",
    "    result = cRMSD(X @ Q, Y)\n",
    "\n",
    "    return U,Vt.T,S,Q,result\n",
    "\n",
    "U, V, S, Q, RMSD = optimal_cRMSD(triplets[:n], triplets[n:2*n]) \n",
    "\n",
    "print(\"================== U ==================\\n\")\n",
    "print(U)\n",
    "print(\"\\n================== V ==================\\n\")\n",
    "print(V)\n",
    "print(\"\\n================== Σ =========================\\n\")\n",
    "print(S)\n",
    "print(\"\\n================== Q ==============================\\n\")\n",
    "print(Q)\n",
    "print(\"\\n====== RMSD ======\\n\")\n",
    "print(RMSD)"
   ]
  },
  {
   "cell_type": "markdown",
   "metadata": {
    "id": "vPolpWqB6c2V"
   },
   "source": [
    "## Task 2.2\n",
    "\n",
    "*Compute the c-RMSD distances between all $\\left(\\begin{array}{c}80 \\\\ 2\\end{array}\\right)$ pairs of conformations. Compute the mean and median.*"
   ]
  },
  {
   "cell_type": "code",
   "execution_count": 10,
   "metadata": {
    "executionInfo": {
     "elapsed": 33296,
     "status": "ok",
     "timestamp": 1617481124099,
     "user": {
      "displayName": "George Rouvalis",
      "photoUrl": "https://lh3.googleusercontent.com/a-/AOh14GjOquqA-iZ8D0tVtvosCKyeJZFqyD7he_S0lJgp=s64",
      "userId": "07262416081964161526"
     },
     "user_tz": -180
    },
    "id": "AE8moq1V6eF4"
   },
   "outputs": [],
   "source": [
    "distances = []\n",
    "for i in range(conformations):\n",
    "    for j in range(conformations):\n",
    "        if j > i:\n",
    "            _,_,_,_,temp = optimal_cRMSD(triplets[i*n:i*n + n], triplets[j*n:j*n+n])\n",
    "            distances.append(temp)"
   ]
  },
  {
   "cell_type": "markdown",
   "metadata": {
    "id": "qA0V1RpfMslK"
   },
   "source": [
    "### Visualization"
   ]
  },
  {
   "cell_type": "code",
   "execution_count": 11,
   "metadata": {
    "colab": {
     "base_uri": "https://localhost:8080/",
     "height": 623
    },
    "executionInfo": {
     "elapsed": 33295,
     "status": "ok",
     "timestamp": 1617481124100,
     "user": {
      "displayName": "George Rouvalis",
      "photoUrl": "https://lh3.googleusercontent.com/a-/AOh14GjOquqA-iZ8D0tVtvosCKyeJZFqyD7he_S0lJgp=s64",
      "userId": "07262416081964161526"
     },
     "user_tz": -180
    },
    "id": "gQdEG_Lz9R7i",
    "outputId": "09f827bc-7f2a-4066-a032-ffe9eaa87f99"
   },
   "outputs": [
    {
     "name": "stdout",
     "output_type": "stream",
     "text": [
      "Mean :  10.004957817941573\n",
      "Median:  9.918130453574387\n",
      "\n",
      "\n"
     ]
    },
    {
     "data": {
      "image/png": "[encoded data removed]",
      "text/plain": [
       "<Figure size 800x600 with 1 Axes>"
      ]
     },
     "metadata": {
      "needs_background": "light",
      "tags": []
     },
     "output_type": "display_data"
    }
   ],
   "source": [
    "print('Mean : ',np.mean(distances))\n",
    "print('Median: ',np.median(distances))\n",
    "print(\"\\n\")\n",
    "\n",
    "plt.figure(figsize=(8, 6), dpi=100)\n",
    "plt.grid(axis='y', alpha=0.75)\n",
    "plt.hist(distances,bins=10,range=(np.min(distances),np.max(distances)), rwidth=0.85, color='darkcyan')\n",
    "plt.title(\"cRMSD Distances\")\n",
    "plt.xlabel('Value')\n",
    "plt.ylabel('Frequency')\n",
    "plt.show()"
   ]
  },
  {
   "cell_type": "markdown",
   "metadata": {
    "id": "jA7VuevLAcWW"
   },
   "source": [
    "## Task 2.3\n",
    "\n",
    "*Repeat (2) for d-RMSD using all $k=\\left(\\begin{array}{l}n \\\\ 2\\end{array}\\right)$ distances within each conformation*"
   ]
  },
  {
   "cell_type": "markdown",
   "metadata": {
    "id": "E8LDhMWZUlw2"
   },
   "source": [
    "### Helper functions"
   ]
  },
  {
   "cell_type": "code",
   "execution_count": 12,
   "metadata": {
    "executionInfo": {
     "elapsed": 33294,
     "status": "ok",
     "timestamp": 1617481124101,
     "user": {
      "displayName": "George Rouvalis",
      "photoUrl": "https://lh3.googleusercontent.com/a-/AOh14GjOquqA-iZ8D0tVtvosCKyeJZFqyD7he_S0lJgp=s64",
      "userId": "07262416081964161526"
     },
     "user_tz": -180
    },
    "id": "-NPC6VYLUroI"
   },
   "outputs": [],
   "source": [
    "def ncr(n, r):\n",
    "    r = min(r, n-r)\n",
    "    numer = reduce(op.mul, range(n, n-r, -1), 1)\n",
    "    denom = reduce(op.mul, range(1, r+1), 1)\n",
    "    return numer // denom  # or / in Python 2\n",
    "\n",
    "def distanceVector(x):\n",
    "    '''\n",
    "    Returns a distance vector between all atoms of a conformation\n",
    "\n",
    "    @x: conformation\n",
    "    '''\n",
    "    dist = []\n",
    "    for i in range(n):\n",
    "        for j in range(n):\n",
    "            if j > i:\n",
    "                dist.append(np.linalg.norm(x[i] - x[j]))\n",
    "\n",
    "    return dist"
   ]
  },
  {
   "cell_type": "markdown",
   "metadata": {
    "id": "yNOU9BpmU4bF"
   },
   "source": [
    "### d-RMSD computation"
   ]
  },
  {
   "cell_type": "code",
   "execution_count": 13,
   "metadata": {
    "executionInfo": {
     "elapsed": 33291,
     "status": "ok",
     "timestamp": 1617481124101,
     "user": {
      "displayName": "George Rouvalis",
      "photoUrl": "https://lh3.googleusercontent.com/a-/AOh14GjOquqA-iZ8D0tVtvosCKyeJZFqyD7he_S0lJgp=s64",
      "userId": "07262416081964161526"
     },
     "user_tz": -180
    },
    "id": "0BTUrYu_Afl5"
   },
   "outputs": [],
   "source": [
    "def dRMSD(x, y):\n",
    "    '''\n",
    "    Returns the dRMSD for 2 conformations\n",
    "\n",
    "    @x ,y: conformations\n",
    "    @n: atoms in backbone\n",
    "    '''\n",
    "\n",
    "    k = ncr(n,2)\n",
    "    sum = 0\n",
    "    for i in range(k):\n",
    "        sum += ((x[i] - y[i]) ** 2)\n",
    "\n",
    "    return np.sqrt(sum/k)"
   ]
  },
  {
   "cell_type": "code",
   "execution_count": 14,
   "metadata": {
    "executionInfo": {
     "elapsed": 268429,
     "status": "ok",
     "timestamp": 1617481359242,
     "user": {
      "displayName": "George Rouvalis",
      "photoUrl": "https://lh3.googleusercontent.com/a-/AOh14GjOquqA-iZ8D0tVtvosCKyeJZFqyD7he_S0lJgp=s64",
      "userId": "07262416081964161526"
     },
     "user_tz": -180
    },
    "id": "rXYOCYXXBFqg"
   },
   "outputs": [],
   "source": [
    "confDistances = []\n",
    "for i in range(conformations):\n",
    "    confDistances.append(distanceVector(triplets[i*n:i*n + n]))\n",
    "\n",
    "distances2 = []\n",
    "for i in range(conformations):\n",
    "    for j in range(conformations):\n",
    "        if j > i:\n",
    "            temp2 = dRMSD(\n",
    "                confDistances[i], confDistances[j]\n",
    "            )\n",
    "            distances2.append(temp2)"
   ]
  },
  {
   "cell_type": "markdown",
   "metadata": {
    "id": "j5q83qyNU_8b"
   },
   "source": [
    "### Visualization"
   ]
  },
  {
   "cell_type": "code",
   "execution_count": 15,
   "metadata": {
    "colab": {
     "base_uri": "https://localhost:8080/",
     "height": 623
    },
    "executionInfo": {
     "elapsed": 269008,
     "status": "ok",
     "timestamp": 1617481359823,
     "user": {
      "displayName": "George Rouvalis",
      "photoUrl": "https://lh3.googleusercontent.com/a-/AOh14GjOquqA-iZ8D0tVtvosCKyeJZFqyD7he_S0lJgp=s64",
      "userId": "07262416081964161526"
     },
     "user_tz": -180
    },
    "id": "HNem3lGNBJcG",
    "outputId": "18c26ddb-91b3-414f-f8cf-96cb63771178"
   },
   "outputs": [
    {
     "name": "stdout",
     "output_type": "stream",
     "text": [
      "Mean :  6.7950321975044385\n",
      "Median:  6.468606946347217\n",
      "\n",
      "\n"
     ]
    },
    {
     "data": {
      "image/png": "[encoded data removed]",
      "text/plain": [
       "<Figure size 800x600 with 1 Axes>"
      ]
     },
     "metadata": {
      "needs_background": "light",
      "tags": []
     },
     "output_type": "display_data"
    }
   ],
   "source": [
    "print('Mean : ',np.mean(distances2))\n",
    "print('Median: ',np.median(distances2))\n",
    "print(\"\\n\")\n",
    "\n",
    "plt.figure(figsize=(8, 6), dpi=100)\n",
    "plt.grid(axis='y', alpha=0.75)\n",
    "plt.hist(distances2,bins=10,range=(np.min(distances2),np.max(distances2)), rwidth=0.85, color='orange')\n",
    "plt.title(\"dRMSD Distances\")\n",
    "plt.xlabel('Value')\n",
    "plt.ylabel('Frequency')\n",
    "plt.show()"
   ]
  }
 ],
 "metadata": {
  "colab": {
   "authorship_tag": "ABX9TyNzhyaq05n3YgrrUPuWPgv0",
   "collapsed_sections": [],
   "name": "Assignment1_GeorgeRouvalis.ipynb",
   "provenance": []
  },
  "kernelspec": {
   "display_name": "Python 3",
   "language": "python",
   "name": "python3"
  },
  "language_info": {
   "codemirror_mode": {
    "name": "ipython",
    "version": 3
   },
   "file_extension": ".py",
   "mimetype": "text/x-python",
   "name": "python",
   "nbconvert_exporter": "python",
   "pygments_lexer": "ipython3",
   "version": "3.8.5"
  }
 },
 "nbformat": 4,
 "nbformat_minor": 1
}
